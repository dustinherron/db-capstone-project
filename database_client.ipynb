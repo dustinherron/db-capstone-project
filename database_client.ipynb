{
 "cells": [
  {
   "cell_type": "code",
   "execution_count": 1,
   "metadata": {},
   "outputs": [
    {
     "name": "stdout",
     "output_type": "stream",
     "text": [
      "bookings contactdetails customers menu orderdeliverystatus orderitem orders staff\n",
      "[('Carter Cook', '2020 Elm Blvd', '5554443333', 'carter.cook@example.com'), ('Harper Henderson', '3535 Elmwood Dr', '5554443333', 'harper.henderson@example.com'), ('Lucas Bennett', '4747 Elmwood Dr', '9990001111', 'lucas.bennett@example.com'), ('Charlotte Evans', '1515 Elmwood Dr', '5554443333', 'charlotte.evans@example.com'), ('Grace Parker', '4444 Pine Blvd', '4445556616', 'grace.parker@example.com'), ('Lucy Bailey', '2121 Oak Ln', '2221110000', 'lucy.bailey@example.com'), ('David Hughes', '2828 Maple Ave', '3332221111', 'david.hughes@example.com'), ('Ella Ross', '4141 Oak Ln', '2221110000', 'ella.ross@example.com'), ('Emily Williams', '101 Maple Ln', '8889990000', 'emily.williams@example.com'), ('Evelyn Davis', '3737 Cedar St', '9997776366', 'evelyn.davis@example.com'), ('Elijah Turner', '1616 Oakwood Rd', '2221110000', 'elijah.turner@example.com'), ('Owen Coleman', '3232 Cedar Ave', '9997776656', 'owen.coleman@example.com'), ('Grace Rogers', '2929 Pine Rd', '8887776466', 'grace.rogers@example.com'), ('James Taylor', '606 Oakwood Rd', '6467778888', 'james.taylor@example.com'), ('Sophie Martin', '909 Pine Rd', '8887776266', 'sophie.martin@example.com'), ('Aiden Baker', '4343 Oakwood Rd', '1112223333', 'aiden.baker@example.com'), ('Mason King', '1414 Pine Ave', '8889990000', 'mason.king@example.com'), ('Sebastian Price', '2626 Oakwood Rd', '2221110000', 'sebastian.price@example.com'), ('Oliver Thompson', '1010 Elm Ave', '5556567777', 'oliver.thompson@example.com'), ('Alexander Cole', '2424 Pine Dr', '8887776636', 'alexander.cole@example.com'), ('Ella Hayes', '2525 Elmwood Dr', '5554443333', 'ella.hayes@example.com'), ('John Smith', '123 Main St', '1234567890', 'john.smith@example.com'), ('Avery Cooper', '4848 Oak Ln', '3334445555', 'avery.cooper@example.com'), ('Liam Mitchell', '4242 Cedar Ave', '7778889999', 'liam.mitchell@example.com'), ('Amelia Simpson', '3939 Pine Rd', '8887776466', 'amelia.simpson@example.com'), ('Ava Anderson', '707 Cedar St', '9990001111', 'ava.anderson@example.com'), ('Michael Brown', '789 Elm Rd', '5551234567', 'michael.brown@example.com'), ('Chloe Harris', '4646 Maple Rd', '2223334444', 'chloe.harris@example.com'), ('Benjamin Scott', '1212 Cedar Ln', '9998887777', 'benjamin.scott@example.com'), ('Daniel Matthews', '4040 Elm Blvd', '5554443333', 'daniel.matthews@example.com'), ('Mia Simmons', '3333 Maple Rd', '3332221111', 'mia.simmons@example.com'), ('Logan Perry', '3636 Oakwood Rd', '2221110000', 'logan.perry@example.com')]\n"
     ]
    }
   ],
   "source": [
    "import mysql.connector as connector\n",
    "\n",
    "connection = connector.connect(\n",
    "    user=\"lemonadmin\", password=\"lemon@789!\", db=\"littlelemondb\"\n",
    ")\n",
    "cursor = connection.cursor()\n",
    "cursor.execute(\"SHOW tables\")\n",
    "res =  ' '.join(map(lambda x: x[0], cursor.fetchall()))\n",
    "print(res)\n",
    "\n",
    "# Join\n",
    "join_query = \"\"\" \n",
    "            SELECT DISTINCT CONCAT(cd.firstname,' ', cd.lastname), cd.address, cd.phonenumber, cd.email \n",
    "            FROM contactdetails AS cd JOIN customers AS c ON c.contactdetails = cd.contactdetailsid\n",
    "            JOIN orders AS o ON o.customer = c.customerid\n",
    "            WHERE totalprice > 60;\n",
    "\"\"\"\n",
    "\n",
    "cursor.execute(join_query)\n",
    "res = cursor.fetchall()\n",
    "print(res)"
   ]
  }
 ],
 "metadata": {
  "kernelspec": {
   "display_name": "Python 3",
   "language": "python",
   "name": "python3"
  },
  "language_info": {
   "codemirror_mode": {
    "name": "ipython",
    "version": 3
   },
   "file_extension": ".py",
   "mimetype": "text/x-python",
   "name": "python",
   "nbconvert_exporter": "python",
   "pygments_lexer": "ipython3",
   "version": "3.11.4"
  },
  "orig_nbformat": 4
 },
 "nbformat": 4,
 "nbformat_minor": 2
}
